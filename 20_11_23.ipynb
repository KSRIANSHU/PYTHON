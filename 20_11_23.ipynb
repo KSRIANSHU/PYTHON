{
  "nbformat": 4,
  "nbformat_minor": 0,
  "metadata": {
    "colab": {
      "provenance": [],
      "authorship_tag": "ABX9TyPqFy02HT0KrPJDImSZ2W6c",
      "include_colab_link": true
    },
    "kernelspec": {
      "name": "python3",
      "display_name": "Python 3"
    },
    "language_info": {
      "name": "python"
    }
  },
  "cells": [
    {
      "cell_type": "markdown",
      "metadata": {
        "id": "view-in-github",
        "colab_type": "text"
      },
      "source": [
        "<a href=\"https://colab.research.google.com/github/KSRIANSHU/PYTHON/blob/main/20_11_23.ipynb\" target=\"_parent\"><img src=\"https://colab.research.google.com/assets/colab-badge.svg\" alt=\"Open In Colab\"/></a>"
      ]
    },
    {
      "cell_type": "code",
      "execution_count": null,
      "metadata": {
        "id": "_EctUu1CQQIy"
      },
      "outputs": [],
      "source": []
    },
    {
      "cell_type": "code",
      "execution_count": 15,
      "metadata": {
        "id": "346raxdM_xFU"
      },
      "outputs": [],
      "source": [
        "from random import randint\n",
        "fp1 = open(\"WriteNumRandom.txt\",\"w\")\n",
        "for x in range(51):\n",
        "  x = randint(500,1000)\n",
        "  x = str(x)\n",
        "  fp1.write(x + \" \")\n",
        "\n",
        "fp1.close()"
      ]
    },
    {
      "cell_type": "code",
      "execution_count": 8,
      "metadata": {
        "id": "Yj7VjIx03sYu"
      },
      "outputs": [],
      "source": [
        "F1 = open(\"demo.txt\",\"r\") #Open File from Current Directory"
      ]
    },
    {
      "cell_type": "code",
      "execution_count": 5,
      "metadata": {
        "id": "XdTVZ1dG-IbX"
      },
      "outputs": [],
      "source": [
        "fp1 = open(\"demo.txt\",\"w\")"
      ]
    },
    {
      "cell_type": "code",
      "execution_count": 4,
      "metadata": {
        "colab": {
          "base_uri": "https://localhost:8080/"
        },
        "id": "VGsGxa4yCVRR",
        "outputId": "b10d94d6-4ed2-480b-a7fb-c7191d8ab6ee"
      },
      "outputs": [
        {
          "output_type": "stream",
          "name": "stdout",
          "text": [
            "Python is powerful... and fast;\n",
            "plays well with others;\n",
            "runs everywhere;\n",
            "is friendly & easy to learn;\n",
            "is Open.\n",
            "These are some of the reasons people who use Python would rather not use anything else.\n",
            "\n",
            "Getting Started\n",
            "Python can be easy to pick up whether you're a first time programmer or you're experienced with other languages. The following pages are a useful first step to get on your way writing programs with Python!\n",
            "\n",
            "Beginner's Guide, Programmers\n",
            "Beginner's Guide, Non-Programmers\n",
            "Beginner's Guide, Download & Installation\n",
            "Code sample and snippets for Beginners\n"
          ]
        }
      ],
      "source": [
        "fp = open(\"demo.txt\",\"r\")\n",
        "text = fp.read()\n",
        "print(text)"
      ]
    },
    {
      "cell_type": "code",
      "execution_count": 9,
      "metadata": {
        "id": "BoNLU2aFCqxz"
      },
      "outputs": [],
      "source": [
        "fp = open(\"demo.txt\",\"r\")\n",
        "for line in fp:\n",
        "  print(line)"
      ]
    },
    {
      "cell_type": "code",
      "execution_count": 10,
      "metadata": {
        "colab": {
          "base_uri": "https://localhost:8080/"
        },
        "id": "GbGCHYgBDgJ9",
        "outputId": "ad7bc76d-bb80-4e99-9933-625c685349cf"
      },
      "outputs": [
        {
          "output_type": "stream",
          "name": "stdout",
          "text": [
            "1\n",
            "2\n",
            "3\n",
            "4\n",
            "5\n",
            "6\n",
            "7\n",
            "8\n",
            "9\n",
            "10\n",
            "11\n",
            "12\n",
            "13\n",
            "14\n",
            "15\n",
            "16\n",
            "17\n",
            "18\n",
            "19\n",
            "20\n",
            "<class 'str'>\n"
          ]
        }
      ],
      "source": [
        "fp1 = open(\"WriteNumbers.txt\",\"r\")\n",
        "num = fp1.read()\n",
        "print(num)\n",
        "print(type(num))\n"
      ]
    },
    {
      "cell_type": "code",
      "execution_count": 13,
      "metadata": {
        "id": "aud3qXKq_eAB"
      },
      "outputs": [],
      "source": [
        "def main():\n",
        "  obj1 = open(\"WriteNumbers.txt\",\"w\")\n",
        "  for x in range(1,21):\n",
        "    x=str(x)\n",
        "    obj1.write(x)\n",
        "    obj1.write(\"\\n\")\n",
        "  obj1.close()\n",
        "\n",
        "main()"
      ]
    },
    {
      "cell_type": "markdown",
      "source": [
        "seek funtion"
      ],
      "metadata": {
        "id": "GpB5dKiYWu1K"
      }
    },
    {
      "cell_type": "code",
      "execution_count": 11,
      "metadata": {
        "colab": {
          "base_uri": "https://localhost:8080/"
        },
        "id": "WOugCzqBFete",
        "outputId": "a3a4f95b-8caa-44b2-f8ca-dfcae8659d74"
      },
      "outputs": [
        {
          "output_type": "stream",
          "name": "stdout",
          "text": [
            "Monday\n",
            "Tuesday\n",
            "Wednesday\n",
            "Thursday\n",
            "Friday\n",
            "\n"
          ]
        }
      ],
      "source": [
        "fp1 = open(\"Weekdays.txt\",\"w+\")\n",
        "fp1.write(\"Monday\\n\")\n",
        "fp1.write(\"Tuesday\\n\")\n",
        "fp1.write(\"Wednesday\\n\")\n",
        "fp1.write(\"Thursday\\n\")\n",
        "fp1.write(\"Friday\\n\")\n",
        "fp1.seek(0)\n",
        "t = fp1.read()\n",
        "print(t)"
      ]
    },
    {
      "cell_type": "code",
      "execution_count": 12,
      "metadata": {
        "colab": {
          "base_uri": "https://localhost:8080/"
        },
        "id": "HPnzw5h7PfpQ",
        "outputId": "de195d11-23ed-4e5a-a78a-54b76a0dd0d7"
      },
      "outputs": [
        {
          "output_type": "stream",
          "name": "stdout",
          "text": [
            "Monday\n",
            "Tuesday\n",
            "Wednesday\n",
            "Thursday\n",
            "Friday\n",
            "Saturday\n",
            "Sunday\n",
            "\n"
          ]
        }
      ],
      "source": [
        "fp1.seek(0,2)\n",
        "fp1.write('Saturday\\n')\n",
        "fp1.write(\"Sunday\\n\")\n",
        "fp1.seek(0)\n",
        "t = fp1.read()\n",
        "print(t)"
      ]
    }
  ]
}